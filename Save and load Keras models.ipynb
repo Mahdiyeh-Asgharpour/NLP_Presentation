{
 "cells": [
  {
   "cell_type": "code",
   "execution_count": 1,
   "metadata": {},
   "outputs": [],
   "source": [
    "from tensorflow.keras.models import load_model"
   ]
  },
  {
   "cell_type": "code",
   "execution_count": 2,
   "metadata": {},
   "outputs": [
    {
     "name": "stderr",
     "output_type": "stream",
     "text": [
      "WARNING:absl:Compiled the loaded model, but the compiled metrics have yet to be built. `model.compile_metrics` will be empty until you train or evaluate the model.\n"
     ]
    }
   ],
   "source": [
    "new_model=load_model(\"model1.h5\")"
   ]
  },
  {
   "cell_type": "code",
   "execution_count": 3,
   "metadata": {},
   "outputs": [
    {
     "data": {
      "text/html": [
       "<pre style=\"white-space:pre;overflow-x:auto;line-height:normal;font-family:Menlo,'DejaVu Sans Mono',consolas,'Courier New',monospace\"><span style=\"font-weight: bold\">Model: \"sequential\"</span>\n",
       "</pre>\n"
      ],
      "text/plain": [
       "\u001b[1mModel: \"sequential\"\u001b[0m\n"
      ]
     },
     "metadata": {},
     "output_type": "display_data"
    },
    {
     "data": {
      "text/html": [
       "<pre style=\"white-space:pre;overflow-x:auto;line-height:normal;font-family:Menlo,'DejaVu Sans Mono',consolas,'Courier New',monospace\">┏━━━━━━━━━━━━━━━━━━━━━━━━━━━━━━━━━┳━━━━━━━━━━━━━━━━━━━━━━━━┳━━━━━━━━━━━━━━━┓\n",
       "┃<span style=\"font-weight: bold\"> Layer (type)                    </span>┃<span style=\"font-weight: bold\"> Output Shape           </span>┃<span style=\"font-weight: bold\">       Param # </span>┃\n",
       "┡━━━━━━━━━━━━━━━━━━━━━━━━━━━━━━━━━╇━━━━━━━━━━━━━━━━━━━━━━━━╇━━━━━━━━━━━━━━━┩\n",
       "│ embedding (<span style=\"color: #0087ff; text-decoration-color: #0087ff\">Embedding</span>)           │ (<span style=\"color: #00d7ff; text-decoration-color: #00d7ff\">None</span>, <span style=\"color: #00af00; text-decoration-color: #00af00\">100</span>, <span style=\"color: #00af00; text-decoration-color: #00af00\">30</span>)        │        <span style=\"color: #00af00; text-decoration-color: #00af00\">15,000</span> │\n",
       "├─────────────────────────────────┼────────────────────────┼───────────────┤\n",
       "│ lstm (<span style=\"color: #0087ff; text-decoration-color: #0087ff\">LSTM</span>)                     │ (<span style=\"color: #00d7ff; text-decoration-color: #00d7ff\">None</span>, <span style=\"color: #00af00; text-decoration-color: #00af00\">256</span>)            │       <span style=\"color: #00af00; text-decoration-color: #00af00\">293,888</span> │\n",
       "├─────────────────────────────────┼────────────────────────┼───────────────┤\n",
       "│ dense (<span style=\"color: #0087ff; text-decoration-color: #0087ff\">Dense</span>)                   │ (<span style=\"color: #00d7ff; text-decoration-color: #00d7ff\">None</span>, <span style=\"color: #00af00; text-decoration-color: #00af00\">1</span>)              │           <span style=\"color: #00af00; text-decoration-color: #00af00\">257</span> │\n",
       "└─────────────────────────────────┴────────────────────────┴───────────────┘\n",
       "</pre>\n"
      ],
      "text/plain": [
       "┏━━━━━━━━━━━━━━━━━━━━━━━━━━━━━━━━━┳━━━━━━━━━━━━━━━━━━━━━━━━┳━━━━━━━━━━━━━━━┓\n",
       "┃\u001b[1m \u001b[0m\u001b[1mLayer (type)                   \u001b[0m\u001b[1m \u001b[0m┃\u001b[1m \u001b[0m\u001b[1mOutput Shape          \u001b[0m\u001b[1m \u001b[0m┃\u001b[1m \u001b[0m\u001b[1m      Param #\u001b[0m\u001b[1m \u001b[0m┃\n",
       "┡━━━━━━━━━━━━━━━━━━━━━━━━━━━━━━━━━╇━━━━━━━━━━━━━━━━━━━━━━━━╇━━━━━━━━━━━━━━━┩\n",
       "│ embedding (\u001b[38;5;33mEmbedding\u001b[0m)           │ (\u001b[38;5;45mNone\u001b[0m, \u001b[38;5;34m100\u001b[0m, \u001b[38;5;34m30\u001b[0m)        │        \u001b[38;5;34m15,000\u001b[0m │\n",
       "├─────────────────────────────────┼────────────────────────┼───────────────┤\n",
       "│ lstm (\u001b[38;5;33mLSTM\u001b[0m)                     │ (\u001b[38;5;45mNone\u001b[0m, \u001b[38;5;34m256\u001b[0m)            │       \u001b[38;5;34m293,888\u001b[0m │\n",
       "├─────────────────────────────────┼────────────────────────┼───────────────┤\n",
       "│ dense (\u001b[38;5;33mDense\u001b[0m)                   │ (\u001b[38;5;45mNone\u001b[0m, \u001b[38;5;34m1\u001b[0m)              │           \u001b[38;5;34m257\u001b[0m │\n",
       "└─────────────────────────────────┴────────────────────────┴───────────────┘\n"
      ]
     },
     "metadata": {},
     "output_type": "display_data"
    },
    {
     "data": {
      "text/html": [
       "<pre style=\"white-space:pre;overflow-x:auto;line-height:normal;font-family:Menlo,'DejaVu Sans Mono',consolas,'Courier New',monospace\"><span style=\"font-weight: bold\"> Total params: </span><span style=\"color: #00af00; text-decoration-color: #00af00\">309,147</span> (1.18 MB)\n",
       "</pre>\n"
      ],
      "text/plain": [
       "\u001b[1m Total params: \u001b[0m\u001b[38;5;34m309,147\u001b[0m (1.18 MB)\n"
      ]
     },
     "metadata": {},
     "output_type": "display_data"
    },
    {
     "data": {
      "text/html": [
       "<pre style=\"white-space:pre;overflow-x:auto;line-height:normal;font-family:Menlo,'DejaVu Sans Mono',consolas,'Courier New',monospace\"><span style=\"font-weight: bold\"> Trainable params: </span><span style=\"color: #00af00; text-decoration-color: #00af00\">309,145</span> (1.18 MB)\n",
       "</pre>\n"
      ],
      "text/plain": [
       "\u001b[1m Trainable params: \u001b[0m\u001b[38;5;34m309,145\u001b[0m (1.18 MB)\n"
      ]
     },
     "metadata": {},
     "output_type": "display_data"
    },
    {
     "data": {
      "text/html": [
       "<pre style=\"white-space:pre;overflow-x:auto;line-height:normal;font-family:Menlo,'DejaVu Sans Mono',consolas,'Courier New',monospace\"><span style=\"font-weight: bold\"> Non-trainable params: </span><span style=\"color: #00af00; text-decoration-color: #00af00\">0</span> (0.00 B)\n",
       "</pre>\n"
      ],
      "text/plain": [
       "\u001b[1m Non-trainable params: \u001b[0m\u001b[38;5;34m0\u001b[0m (0.00 B)\n"
      ]
     },
     "metadata": {},
     "output_type": "display_data"
    },
    {
     "data": {
      "text/html": [
       "<pre style=\"white-space:pre;overflow-x:auto;line-height:normal;font-family:Menlo,'DejaVu Sans Mono',consolas,'Courier New',monospace\"><span style=\"font-weight: bold\"> Optimizer params: </span><span style=\"color: #00af00; text-decoration-color: #00af00\">2</span> (12.00 B)\n",
       "</pre>\n"
      ],
      "text/plain": [
       "\u001b[1m Optimizer params: \u001b[0m\u001b[38;5;34m2\u001b[0m (12.00 B)\n"
      ]
     },
     "metadata": {},
     "output_type": "display_data"
    }
   ],
   "source": [
    "new_model.summary()"
   ]
  },
  {
   "cell_type": "code",
   "execution_count": 4,
   "metadata": {},
   "outputs": [
    {
     "data": {
      "text/plain": [
       "[array([[ 0.10919172,  0.14351344, -0.10428754, ..., -0.10196561,\n",
       "          0.14753176, -0.1318873 ],\n",
       "        [ 0.14345813,  0.18614675, -0.1818352 , ..., -0.18276961,\n",
       "          0.12540798, -0.1688078 ],\n",
       "        [-0.04074006, -0.0502521 ,  0.00579788, ...,  0.00769263,\n",
       "          0.01004482, -0.02551618],\n",
       "        ...,\n",
       "        [ 0.0725383 ,  0.01016039, -0.00427605, ..., -0.0324419 ,\n",
       "          0.0335751 , -0.03387352],\n",
       "        [-0.08284814, -0.07726176,  0.10618873, ...,  0.08670669,\n",
       "         -0.09012593,  0.02541098],\n",
       "        [ 0.03456631,  0.05286304, -0.03257313, ..., -0.05472474,\n",
       "          0.09424163, -0.0257976 ]], dtype=float32),\n",
       " array([[ 0.05472092, -0.07120921, -0.04409123, ...,  0.10974873,\n",
       "         -0.0577686 , -0.02754823],\n",
       "        [-0.0673916 , -0.0107129 ,  0.00686851, ...,  0.06807589,\n",
       "         -0.00184128,  0.07509708],\n",
       "        [-0.0302419 , -0.04738282,  0.01683503, ..., -0.07208022,\n",
       "          0.05523416,  0.03016209],\n",
       "        ...,\n",
       "        [ 0.03459752, -0.02335861,  0.02063698, ...,  0.01253251,\n",
       "          0.04233451,  0.05579005],\n",
       "        [ 0.05615228, -0.0660393 ,  0.01066922, ...,  0.03175147,\n",
       "         -0.04134051,  0.06211691],\n",
       "        [ 0.00321972,  0.03103334, -0.05355502, ...,  0.00750359,\n",
       "          0.00508247,  0.05961318]], dtype=float32),\n",
       " array([[ 0.03909866, -0.04614289, -0.0148572 , ..., -0.00096935,\n",
       "          0.0257404 , -0.01599297],\n",
       "        [ 0.05931513, -0.00631564, -0.05043541, ...,  0.02012965,\n",
       "          0.00149692, -0.02933514],\n",
       "        [ 0.02876137, -0.00668878,  0.00058609, ...,  0.00963016,\n",
       "         -0.01618249, -0.07806339],\n",
       "        ...,\n",
       "        [-0.02498944, -0.00611025,  0.02305144, ..., -0.04310996,\n",
       "         -0.03660341, -0.00196151],\n",
       "        [-0.00252588, -0.03977115,  0.00705875, ..., -0.08482395,\n",
       "          0.02345396,  0.04277467],\n",
       "        [ 0.09233311,  0.07959239, -0.03287369, ..., -0.01852685,\n",
       "          0.03337183, -0.01913569]], dtype=float32),\n",
       " array([ 0.0204772 ,  0.00107758, -0.00314444, ...,  0.010076  ,\n",
       "         0.03708981,  0.0250898 ], dtype=float32),\n",
       " array([[ 0.14868312],\n",
       "        [-0.01540058],\n",
       "        [-0.13323495],\n",
       "        [-0.14015535],\n",
       "        [ 0.01327409],\n",
       "        [ 0.05886343],\n",
       "        [-0.12944935],\n",
       "        [-0.13458185],\n",
       "        [ 0.00313234],\n",
       "        [ 0.21424022],\n",
       "        [-0.0897088 ],\n",
       "        [ 0.17290355],\n",
       "        [-0.10071477],\n",
       "        [ 0.19132005],\n",
       "        [-0.15983257],\n",
       "        [ 0.22381018],\n",
       "        [-0.19620617],\n",
       "        [ 0.10233917],\n",
       "        [-0.10494922],\n",
       "        [-0.10610709],\n",
       "        [-0.11284716],\n",
       "        [ 0.1876137 ],\n",
       "        [ 0.02387908],\n",
       "        [-0.13176075],\n",
       "        [ 0.20374067],\n",
       "        [ 0.13829857],\n",
       "        [-0.08535303],\n",
       "        [-0.16261634],\n",
       "        [ 0.1810542 ],\n",
       "        [-0.19037601],\n",
       "        [-0.13683026],\n",
       "        [ 0.18366186],\n",
       "        [ 0.14567353],\n",
       "        [ 0.10095433],\n",
       "        [ 0.03546555],\n",
       "        [ 0.17499273],\n",
       "        [ 0.05901987],\n",
       "        [-0.06200223],\n",
       "        [-0.08204792],\n",
       "        [-0.18754272],\n",
       "        [-0.07060826],\n",
       "        [-0.18821873],\n",
       "        [ 0.11839651],\n",
       "        [-0.00611475],\n",
       "        [ 0.01424995],\n",
       "        [-0.18519743],\n",
       "        [-0.0667762 ],\n",
       "        [-0.2231891 ],\n",
       "        [ 0.22307394],\n",
       "        [ 0.07914858],\n",
       "        [ 0.20271736],\n",
       "        [ 0.06275905],\n",
       "        [ 0.06415676],\n",
       "        [ 0.11337517],\n",
       "        [ 0.09812552],\n",
       "        [ 0.06895477],\n",
       "        [-0.01393315],\n",
       "        [ 0.14840543],\n",
       "        [ 0.00821647],\n",
       "        [-0.09143072],\n",
       "        [ 0.1608188 ],\n",
       "        [-0.04228324],\n",
       "        [ 0.06601117],\n",
       "        [-0.21124461],\n",
       "        [ 0.19067009],\n",
       "        [ 0.02888778],\n",
       "        [ 0.00905102],\n",
       "        [-0.01748228],\n",
       "        [ 0.06656913],\n",
       "        [ 0.0452507 ],\n",
       "        [-0.17310055],\n",
       "        [ 0.0168399 ],\n",
       "        [-0.12320682],\n",
       "        [ 0.00814855],\n",
       "        [-0.09853713],\n",
       "        [-0.16082305],\n",
       "        [ 0.14523463],\n",
       "        [-0.07541337],\n",
       "        [ 0.2001324 ],\n",
       "        [ 0.11982879],\n",
       "        [ 0.03936301],\n",
       "        [-0.0949389 ],\n",
       "        [ 0.0144197 ],\n",
       "        [-0.113584  ],\n",
       "        [ 0.08567379],\n",
       "        [ 0.06816381],\n",
       "        [ 0.13014208],\n",
       "        [ 0.16915227],\n",
       "        [ 0.13763814],\n",
       "        [ 0.10093182],\n",
       "        [-0.07069598],\n",
       "        [-0.13426135],\n",
       "        [ 0.1860655 ],\n",
       "        [ 0.20100032],\n",
       "        [ 0.08818634],\n",
       "        [-0.13111477],\n",
       "        [ 0.19642259],\n",
       "        [-0.03435893],\n",
       "        [ 0.14849427],\n",
       "        [-0.16540962],\n",
       "        [ 0.09799349],\n",
       "        [ 0.00395224],\n",
       "        [ 0.1027504 ],\n",
       "        [-0.1642551 ],\n",
       "        [ 0.12258244],\n",
       "        [ 0.10739213],\n",
       "        [-0.14322574],\n",
       "        [-0.02810583],\n",
       "        [ 0.18620828],\n",
       "        [ 0.12071124],\n",
       "        [-0.15064137],\n",
       "        [ 0.05851087],\n",
       "        [-0.02681851],\n",
       "        [ 0.17635621],\n",
       "        [-0.0754208 ],\n",
       "        [-0.1287013 ],\n",
       "        [-0.09787242],\n",
       "        [-0.11803107],\n",
       "        [-0.04595696],\n",
       "        [-0.0292718 ],\n",
       "        [ 0.15597507],\n",
       "        [-0.01160411],\n",
       "        [ 0.21223849],\n",
       "        [-0.1831043 ],\n",
       "        [ 0.16394576],\n",
       "        [ 0.02598011],\n",
       "        [ 0.03515922],\n",
       "        [-0.17296378],\n",
       "        [-0.1836548 ],\n",
       "        [ 0.08816475],\n",
       "        [ 0.04226278],\n",
       "        [-0.13884272],\n",
       "        [ 0.04005597],\n",
       "        [-0.16707778],\n",
       "        [ 0.03768547],\n",
       "        [-0.1717658 ],\n",
       "        [ 0.18775138],\n",
       "        [ 0.11278   ],\n",
       "        [-0.18840177],\n",
       "        [ 0.00335384],\n",
       "        [ 0.19981354],\n",
       "        [ 0.19583993],\n",
       "        [ 0.15357606],\n",
       "        [-0.09417698],\n",
       "        [-0.14027542],\n",
       "        [ 0.198229  ],\n",
       "        [-0.01082545],\n",
       "        [ 0.1335872 ],\n",
       "        [-0.21720283],\n",
       "        [ 0.11143358],\n",
       "        [ 0.0156228 ],\n",
       "        [ 0.11373124],\n",
       "        [ 0.17641112],\n",
       "        [ 0.1621053 ],\n",
       "        [ 0.09538213],\n",
       "        [ 0.19814076],\n",
       "        [-0.19956009],\n",
       "        [-0.1480315 ],\n",
       "        [-0.11108448],\n",
       "        [-0.06445342],\n",
       "        [ 0.19270715],\n",
       "        [ 0.16910237],\n",
       "        [-0.20088534],\n",
       "        [-0.00840262],\n",
       "        [ 0.10711657],\n",
       "        [ 0.14264092],\n",
       "        [-0.07848633],\n",
       "        [-0.14003733],\n",
       "        [-0.08764116],\n",
       "        [-0.27288294],\n",
       "        [ 0.02991018],\n",
       "        [-0.09681166],\n",
       "        [-0.17214306],\n",
       "        [-0.10189006],\n",
       "        [-0.07625283],\n",
       "        [-0.01048122],\n",
       "        [ 0.11458936],\n",
       "        [ 0.09264845],\n",
       "        [ 0.22207081],\n",
       "        [ 0.11708674],\n",
       "        [ 0.20650375],\n",
       "        [ 0.22451912],\n",
       "        [ 0.2117818 ],\n",
       "        [ 0.10315321],\n",
       "        [-0.13092473],\n",
       "        [-0.17800744],\n",
       "        [ 0.09927113],\n",
       "        [ 0.1693911 ],\n",
       "        [ 0.04124761],\n",
       "        [ 0.06071421],\n",
       "        [ 0.17226042],\n",
       "        [ 0.11844439],\n",
       "        [ 0.15685478],\n",
       "        [-0.03016681],\n",
       "        [ 0.12668547],\n",
       "        [ 0.10237113],\n",
       "        [ 0.15700558],\n",
       "        [-0.1309919 ],\n",
       "        [ 0.05269314],\n",
       "        [ 0.08694034],\n",
       "        [-0.06088304],\n",
       "        [ 0.02161774],\n",
       "        [ 0.10361531],\n",
       "        [ 0.06218904],\n",
       "        [ 0.08250095],\n",
       "        [ 0.16110337],\n",
       "        [ 0.06153443],\n",
       "        [-0.21592464],\n",
       "        [-0.00759903],\n",
       "        [ 0.168187  ],\n",
       "        [-0.15690738],\n",
       "        [-0.13921079],\n",
       "        [-0.12069216],\n",
       "        [ 0.15177742],\n",
       "        [-0.18834713],\n",
       "        [-0.08834988],\n",
       "        [ 0.18323334],\n",
       "        [-0.07869574],\n",
       "        [ 0.08741516],\n",
       "        [ 0.03815964],\n",
       "        [ 0.03680776],\n",
       "        [ 0.00708026],\n",
       "        [-0.07046913],\n",
       "        [-0.17262992],\n",
       "        [-0.08125491],\n",
       "        [ 0.00932159],\n",
       "        [ 0.18255387],\n",
       "        [ 0.0877187 ],\n",
       "        [-0.08115745],\n",
       "        [-0.1289283 ],\n",
       "        [-0.16776481],\n",
       "        [ 0.03056492],\n",
       "        [ 0.1210333 ],\n",
       "        [-0.18604763],\n",
       "        [-0.18538387],\n",
       "        [ 0.14588481],\n",
       "        [-0.2671914 ],\n",
       "        [-0.12659189],\n",
       "        [-0.11234299],\n",
       "        [ 0.16207643],\n",
       "        [ 0.19070022],\n",
       "        [ 0.10738613],\n",
       "        [-0.0004106 ],\n",
       "        [ 0.1121545 ],\n",
       "        [-0.14163151],\n",
       "        [-0.09642278],\n",
       "        [ 0.12073439],\n",
       "        [-0.05258448],\n",
       "        [-0.12939337],\n",
       "        [-0.17952958],\n",
       "        [ 0.11536947],\n",
       "        [ 0.10877384],\n",
       "        [ 0.09315124],\n",
       "        [-0.13397057],\n",
       "        [ 0.19203116],\n",
       "        [ 0.15923734]], dtype=float32),\n",
       " array([-0.0151251], dtype=float32)]"
      ]
     },
     "execution_count": 4,
     "metadata": {},
     "output_type": "execute_result"
    }
   ],
   "source": [
    "new_model.get_weights()"
   ]
  },
  {
   "cell_type": "code",
   "execution_count": 5,
   "metadata": {},
   "outputs": [
    {
     "data": {
      "text/plain": [
       "<keras.src.optimizers.adam.Adam at 0x267a8796240>"
      ]
     },
     "execution_count": 5,
     "metadata": {},
     "output_type": "execute_result"
    }
   ],
   "source": [
    "new_model.optimizer"
   ]
  },
  {
   "cell_type": "code",
   "execution_count": 9,
   "metadata": {},
   "outputs": [
    {
     "data": {
      "text/plain": [
       "'{\"module\": \"keras\", \"class_name\": \"Sequential\", \"config\": {\"name\": \"sequential\", \"trainable\": true, \"dtype\": {\"module\": \"keras\", \"class_name\": \"DTypePolicy\", \"config\": {\"name\": \"float32\"}, \"registered_name\": null}, \"layers\": [{\"module\": \"keras.layers\", \"class_name\": \"InputLayer\", \"config\": {\"batch_shape\": [null, 100], \"dtype\": \"float32\", \"sparse\": false, \"name\": \"input_layer\"}, \"registered_name\": null}, {\"module\": \"keras.layers\", \"class_name\": \"Embedding\", \"config\": {\"name\": \"embedding\", \"trainable\": true, \"dtype\": {\"module\": \"keras\", \"class_name\": \"DTypePolicy\", \"config\": {\"name\": \"float32\"}, \"registered_name\": null}, \"input_dim\": 500, \"output_dim\": 30, \"embeddings_initializer\": {\"module\": \"keras.initializers\", \"class_name\": \"RandomUniform\", \"config\": {\"minval\": -0.05, \"maxval\": 0.05, \"seed\": null}, \"registered_name\": null}, \"embeddings_regularizer\": null, \"activity_regularizer\": null, \"embeddings_constraint\": null, \"mask_zero\": false}, \"registered_name\": null, \"build_config\": {\"input_shape\": [null, 100]}}, {\"module\": \"keras.layers\", \"class_name\": \"LSTM\", \"config\": {\"name\": \"lstm\", \"trainable\": true, \"dtype\": {\"module\": \"keras\", \"class_name\": \"DTypePolicy\", \"config\": {\"name\": \"float32\"}, \"registered_name\": null}, \"return_sequences\": false, \"return_state\": false, \"go_backwards\": false, \"stateful\": false, \"unroll\": false, \"zero_output_for_mask\": false, \"units\": 256, \"activation\": \"tanh\", \"recurrent_activation\": \"sigmoid\", \"use_bias\": true, \"kernel_initializer\": {\"module\": \"keras.initializers\", \"class_name\": \"GlorotUniform\", \"config\": {\"seed\": null}, \"registered_name\": null}, \"recurrent_initializer\": {\"module\": \"keras.initializers\", \"class_name\": \"OrthogonalInitializer\", \"config\": {\"gain\": 1.0, \"seed\": null}, \"registered_name\": null}, \"bias_initializer\": {\"module\": \"keras.initializers\", \"class_name\": \"Zeros\", \"config\": {}, \"registered_name\": null}, \"unit_forget_bias\": true, \"kernel_regularizer\": null, \"recurrent_regularizer\": null, \"bias_regularizer\": null, \"activity_regularizer\": null, \"kernel_constraint\": null, \"recurrent_constraint\": null, \"bias_constraint\": null, \"dropout\": 0.0, \"recurrent_dropout\": 0.0, \"seed\": null}, \"registered_name\": null, \"build_config\": {\"input_shape\": [null, 100, 30]}}, {\"module\": \"keras.layers\", \"class_name\": \"Dense\", \"config\": {\"name\": \"dense\", \"trainable\": true, \"dtype\": {\"module\": \"keras\", \"class_name\": \"DTypePolicy\", \"config\": {\"name\": \"float32\"}, \"registered_name\": null}, \"units\": 1, \"activation\": \"sigmoid\", \"use_bias\": true, \"kernel_initializer\": {\"module\": \"keras.initializers\", \"class_name\": \"GlorotUniform\", \"config\": {\"seed\": null}, \"registered_name\": null}, \"bias_initializer\": {\"module\": \"keras.initializers\", \"class_name\": \"Zeros\", \"config\": {}, \"registered_name\": null}, \"kernel_regularizer\": null, \"bias_regularizer\": null, \"kernel_constraint\": null, \"bias_constraint\": null}, \"registered_name\": null, \"build_config\": {\"input_shape\": [null, 256]}}], \"build_input_shape\": [null, 100]}, \"registered_name\": null, \"build_config\": {\"input_shape\": [null, 100]}, \"compile_config\": {\"optimizer\": {\"module\": \"keras.optimizers\", \"class_name\": \"Adam\", \"config\": {\"name\": \"adam\", \"learning_rate\": 0.0010000000474974513, \"weight_decay\": null, \"clipnorm\": null, \"global_clipnorm\": null, \"clipvalue\": null, \"use_ema\": false, \"ema_momentum\": 0.99, \"ema_overwrite_frequency\": null, \"loss_scale_factor\": null, \"gradient_accumulation_steps\": null, \"beta_1\": 0.9, \"beta_2\": 0.999, \"epsilon\": 1e-07, \"amsgrad\": false}, \"registered_name\": null}, \"loss\": {\"module\": \"builtins\", \"class_name\": \"function\", \"config\": \"binary_crossentropy\", \"registered_name\": \"function\"}, \"loss_weights\": null, \"metrics\": [\"accuracy\"], \"weighted_metrics\": null, \"run_eagerly\": false, \"steps_per_execution\": 1, \"jit_compile\": false}}'"
      ]
     },
     "execution_count": 9,
     "metadata": {},
     "output_type": "execute_result"
    }
   ],
   "source": [
    "json_string=new_model.to_json()\n",
    "json_string"
   ]
  },
  {
   "cell_type": "code",
   "execution_count": 10,
   "metadata": {},
   "outputs": [],
   "source": [
    "from tensorflow.keras.models import model_from_json"
   ]
  },
  {
   "cell_type": "code",
   "execution_count": null,
   "metadata": {},
   "outputs": [],
   "source": [
    "model_arct=model_from_json(json_string)"
   ]
  },
  {
   "cell_type": "code",
   "execution_count": 12,
   "metadata": {},
   "outputs": [
    {
     "data": {
      "text/html": [
       "<pre style=\"white-space:pre;overflow-x:auto;line-height:normal;font-family:Menlo,'DejaVu Sans Mono',consolas,'Courier New',monospace\"><span style=\"font-weight: bold\">Model: \"sequential\"</span>\n",
       "</pre>\n"
      ],
      "text/plain": [
       "\u001b[1mModel: \"sequential\"\u001b[0m\n"
      ]
     },
     "metadata": {},
     "output_type": "display_data"
    },
    {
     "data": {
      "text/html": [
       "<pre style=\"white-space:pre;overflow-x:auto;line-height:normal;font-family:Menlo,'DejaVu Sans Mono',consolas,'Courier New',monospace\">┏━━━━━━━━━━━━━━━━━━━━━━━━━━━━━━━━━┳━━━━━━━━━━━━━━━━━━━━━━━━┳━━━━━━━━━━━━━━━┓\n",
       "┃<span style=\"font-weight: bold\"> Layer (type)                    </span>┃<span style=\"font-weight: bold\"> Output Shape           </span>┃<span style=\"font-weight: bold\">       Param # </span>┃\n",
       "┡━━━━━━━━━━━━━━━━━━━━━━━━━━━━━━━━━╇━━━━━━━━━━━━━━━━━━━━━━━━╇━━━━━━━━━━━━━━━┩\n",
       "│ embedding (<span style=\"color: #0087ff; text-decoration-color: #0087ff\">Embedding</span>)           │ (<span style=\"color: #00d7ff; text-decoration-color: #00d7ff\">None</span>, <span style=\"color: #00af00; text-decoration-color: #00af00\">100</span>, <span style=\"color: #00af00; text-decoration-color: #00af00\">30</span>)        │        <span style=\"color: #00af00; text-decoration-color: #00af00\">15,000</span> │\n",
       "├─────────────────────────────────┼────────────────────────┼───────────────┤\n",
       "│ lstm (<span style=\"color: #0087ff; text-decoration-color: #0087ff\">LSTM</span>)                     │ (<span style=\"color: #00d7ff; text-decoration-color: #00d7ff\">None</span>, <span style=\"color: #00af00; text-decoration-color: #00af00\">256</span>)            │       <span style=\"color: #00af00; text-decoration-color: #00af00\">293,888</span> │\n",
       "├─────────────────────────────────┼────────────────────────┼───────────────┤\n",
       "│ dense (<span style=\"color: #0087ff; text-decoration-color: #0087ff\">Dense</span>)                   │ (<span style=\"color: #00d7ff; text-decoration-color: #00d7ff\">None</span>, <span style=\"color: #00af00; text-decoration-color: #00af00\">1</span>)              │           <span style=\"color: #00af00; text-decoration-color: #00af00\">257</span> │\n",
       "└─────────────────────────────────┴────────────────────────┴───────────────┘\n",
       "</pre>\n"
      ],
      "text/plain": [
       "┏━━━━━━━━━━━━━━━━━━━━━━━━━━━━━━━━━┳━━━━━━━━━━━━━━━━━━━━━━━━┳━━━━━━━━━━━━━━━┓\n",
       "┃\u001b[1m \u001b[0m\u001b[1mLayer (type)                   \u001b[0m\u001b[1m \u001b[0m┃\u001b[1m \u001b[0m\u001b[1mOutput Shape          \u001b[0m\u001b[1m \u001b[0m┃\u001b[1m \u001b[0m\u001b[1m      Param #\u001b[0m\u001b[1m \u001b[0m┃\n",
       "┡━━━━━━━━━━━━━━━━━━━━━━━━━━━━━━━━━╇━━━━━━━━━━━━━━━━━━━━━━━━╇━━━━━━━━━━━━━━━┩\n",
       "│ embedding (\u001b[38;5;33mEmbedding\u001b[0m)           │ (\u001b[38;5;45mNone\u001b[0m, \u001b[38;5;34m100\u001b[0m, \u001b[38;5;34m30\u001b[0m)        │        \u001b[38;5;34m15,000\u001b[0m │\n",
       "├─────────────────────────────────┼────────────────────────┼───────────────┤\n",
       "│ lstm (\u001b[38;5;33mLSTM\u001b[0m)                     │ (\u001b[38;5;45mNone\u001b[0m, \u001b[38;5;34m256\u001b[0m)            │       \u001b[38;5;34m293,888\u001b[0m │\n",
       "├─────────────────────────────────┼────────────────────────┼───────────────┤\n",
       "│ dense (\u001b[38;5;33mDense\u001b[0m)                   │ (\u001b[38;5;45mNone\u001b[0m, \u001b[38;5;34m1\u001b[0m)              │           \u001b[38;5;34m257\u001b[0m │\n",
       "└─────────────────────────────────┴────────────────────────┴───────────────┘\n"
      ]
     },
     "metadata": {},
     "output_type": "display_data"
    },
    {
     "data": {
      "text/html": [
       "<pre style=\"white-space:pre;overflow-x:auto;line-height:normal;font-family:Menlo,'DejaVu Sans Mono',consolas,'Courier New',monospace\"><span style=\"font-weight: bold\"> Total params: </span><span style=\"color: #00af00; text-decoration-color: #00af00\">927,437</span> (3.54 MB)\n",
       "</pre>\n"
      ],
      "text/plain": [
       "\u001b[1m Total params: \u001b[0m\u001b[38;5;34m927,437\u001b[0m (3.54 MB)\n"
      ]
     },
     "metadata": {},
     "output_type": "display_data"
    },
    {
     "data": {
      "text/html": [
       "<pre style=\"white-space:pre;overflow-x:auto;line-height:normal;font-family:Menlo,'DejaVu Sans Mono',consolas,'Courier New',monospace\"><span style=\"font-weight: bold\"> Trainable params: </span><span style=\"color: #00af00; text-decoration-color: #00af00\">309,145</span> (1.18 MB)\n",
       "</pre>\n"
      ],
      "text/plain": [
       "\u001b[1m Trainable params: \u001b[0m\u001b[38;5;34m309,145\u001b[0m (1.18 MB)\n"
      ]
     },
     "metadata": {},
     "output_type": "display_data"
    },
    {
     "data": {
      "text/html": [
       "<pre style=\"white-space:pre;overflow-x:auto;line-height:normal;font-family:Menlo,'DejaVu Sans Mono',consolas,'Courier New',monospace\"><span style=\"font-weight: bold\"> Non-trainable params: </span><span style=\"color: #00af00; text-decoration-color: #00af00\">0</span> (0.00 B)\n",
       "</pre>\n"
      ],
      "text/plain": [
       "\u001b[1m Non-trainable params: \u001b[0m\u001b[38;5;34m0\u001b[0m (0.00 B)\n"
      ]
     },
     "metadata": {},
     "output_type": "display_data"
    },
    {
     "data": {
      "text/html": [
       "<pre style=\"white-space:pre;overflow-x:auto;line-height:normal;font-family:Menlo,'DejaVu Sans Mono',consolas,'Courier New',monospace\"><span style=\"font-weight: bold\"> Optimizer params: </span><span style=\"color: #00af00; text-decoration-color: #00af00\">618,292</span> (2.36 MB)\n",
       "</pre>\n"
      ],
      "text/plain": [
       "\u001b[1m Optimizer params: \u001b[0m\u001b[38;5;34m618,292\u001b[0m (2.36 MB)\n"
      ]
     },
     "metadata": {},
     "output_type": "display_data"
    }
   ],
   "source": [
    "model_arct.summary()"
   ]
  },
  {
   "cell_type": "code",
   "execution_count": 13,
   "metadata": {},
   "outputs": [
    {
     "data": {
      "text/plain": [
       "[array([[ 0.03404484, -0.04905268, -0.02137781, ...,  0.04664898,\n",
       "         -0.02477515, -0.0156711 ],\n",
       "        [-0.02730467,  0.00298716, -0.03017896, ...,  0.00800438,\n",
       "          0.04954835,  0.00255854],\n",
       "        [ 0.04319211, -0.04403533, -0.02415899, ...,  0.01540705,\n",
       "          0.04494071,  0.0194124 ],\n",
       "        ...,\n",
       "        [ 0.03051103,  0.01973769, -0.01326773, ...,  0.01890315,\n",
       "          0.03537678,  0.04349797],\n",
       "        [ 0.01776831, -0.01682769,  0.00854789, ...,  0.02314997,\n",
       "          0.04731539,  0.02400294],\n",
       "        [ 0.04540971,  0.04280331,  0.02301219, ...,  0.00283409,\n",
       "          0.03543078, -0.03763292]], dtype=float32),\n",
       " array([[-0.0281945 , -0.05228797,  0.06234095, ..., -0.01404828,\n",
       "          0.06931013, -0.07301249],\n",
       "        [-0.01812521,  0.00378912,  0.03561097, ...,  0.04173423,\n",
       "          0.01793777, -0.03487594],\n",
       "        [ 0.04235872,  0.05914932,  0.0530856 , ..., -0.02572029,\n",
       "         -0.07412715,  0.00838875],\n",
       "        ...,\n",
       "        [ 0.02957448, -0.0541682 , -0.03689408, ...,  0.00705595,\n",
       "         -0.03486247, -0.03896267],\n",
       "        [ 0.04319423, -0.01513707, -0.04108367, ..., -0.05006316,\n",
       "          0.02319512, -0.06098505],\n",
       "        [ 0.02970052,  0.02271318, -0.06595618, ..., -0.02704306,\n",
       "          0.06548858,  0.02547362]], dtype=float32),\n",
       " array([[ 5.7710767e-02, -8.5315043e-03, -1.1487570e-02, ...,\n",
       "          4.8129786e-02,  4.0298797e-02, -1.6174331e-02],\n",
       "        [-1.5454316e-02, -3.0398369e-03, -5.0482783e-03, ...,\n",
       "          3.1698734e-02,  9.4495621e-03, -1.6403373e-03],\n",
       "        [ 5.9475716e-02, -1.8984251e-02, -1.8010139e-02, ...,\n",
       "          8.7556513e-03,  2.4729667e-02,  5.3075179e-03],\n",
       "        ...,\n",
       "        [-9.0085599e-04, -4.9677160e-02, -1.7096190e-02, ...,\n",
       "         -2.2123672e-02,  8.6351112e-03, -1.6714184e-02],\n",
       "        [ 1.7479710e-02, -6.9516646e-03, -4.6962265e-02, ...,\n",
       "         -2.0017680e-03, -8.6180158e-03, -4.4600569e-02],\n",
       "        [-5.1557891e-02,  3.7857186e-02, -7.8869460e-05, ...,\n",
       "          1.0422269e-02, -4.2004231e-02, -3.6199450e-02]], dtype=float32),\n",
       " array([0., 0., 0., ..., 0., 0., 0.], dtype=float32),\n",
       " array([[ 1.81592852e-02],\n",
       "        [ 8.89022350e-02],\n",
       "        [-1.27918050e-01],\n",
       "        [ 5.95068187e-02],\n",
       "        [-2.05582082e-02],\n",
       "        [-1.52766451e-01],\n",
       "        [ 1.28556654e-01],\n",
       "        [-1.27517000e-01],\n",
       "        [ 1.04840651e-01],\n",
       "        [ 5.44622093e-02],\n",
       "        [-1.00763239e-01],\n",
       "        [-9.24408138e-02],\n",
       "        [ 1.46511421e-01],\n",
       "        [-1.13372654e-02],\n",
       "        [-1.34604648e-01],\n",
       "        [-1.43828735e-01],\n",
       "        [-6.60406426e-02],\n",
       "        [ 1.50533020e-03],\n",
       "        [-1.25294030e-02],\n",
       "        [ 4.72054482e-02],\n",
       "        [-9.53121260e-02],\n",
       "        [ 1.47293702e-01],\n",
       "        [-1.20832980e-01],\n",
       "        [-2.08762735e-02],\n",
       "        [-1.29974976e-01],\n",
       "        [ 7.80487508e-02],\n",
       "        [ 8.24931711e-02],\n",
       "        [ 7.18437135e-03],\n",
       "        [ 1.50691718e-02],\n",
       "        [ 1.37505695e-01],\n",
       "        [ 1.20369956e-01],\n",
       "        [ 1.36022463e-01],\n",
       "        [-2.03508884e-02],\n",
       "        [-7.60478750e-02],\n",
       "        [-1.16208509e-01],\n",
       "        [-7.30767101e-02],\n",
       "        [-9.83817205e-02],\n",
       "        [ 1.00892171e-01],\n",
       "        [-1.37345508e-01],\n",
       "        [-6.42813668e-02],\n",
       "        [ 1.19467512e-01],\n",
       "        [ 4.97956425e-02],\n",
       "        [-8.50168839e-02],\n",
       "        [ 1.34450302e-01],\n",
       "        [-5.50606027e-02],\n",
       "        [-1.44021705e-01],\n",
       "        [-6.46485016e-02],\n",
       "        [ 1.33936390e-01],\n",
       "        [ 1.90994740e-02],\n",
       "        [ 2.06662565e-02],\n",
       "        [-4.73402068e-02],\n",
       "        [-3.02729979e-02],\n",
       "        [-3.44522223e-02],\n",
       "        [-1.07648931e-01],\n",
       "        [-1.31013647e-01],\n",
       "        [ 1.40830502e-01],\n",
       "        [ 1.23916715e-02],\n",
       "        [ 5.99187911e-02],\n",
       "        [ 9.92096812e-02],\n",
       "        [-4.64685634e-02],\n",
       "        [ 1.49936229e-02],\n",
       "        [-1.39246568e-01],\n",
       "        [-7.61417523e-02],\n",
       "        [-4.42147255e-02],\n",
       "        [-9.71469134e-02],\n",
       "        [ 9.89283472e-02],\n",
       "        [-1.17364444e-01],\n",
       "        [-1.38289616e-01],\n",
       "        [ 1.86291337e-03],\n",
       "        [-1.36987865e-03],\n",
       "        [ 1.00498721e-01],\n",
       "        [ 9.66775566e-02],\n",
       "        [-9.64385867e-02],\n",
       "        [-1.44181877e-01],\n",
       "        [ 3.47177237e-02],\n",
       "        [ 9.67767537e-02],\n",
       "        [ 3.97137552e-02],\n",
       "        [-7.89839178e-02],\n",
       "        [-3.75199243e-02],\n",
       "        [-1.00023508e-01],\n",
       "        [ 1.49089172e-01],\n",
       "        [ 1.50058016e-01],\n",
       "        [ 9.96677428e-02],\n",
       "        [ 1.11733362e-01],\n",
       "        [ 5.22698313e-02],\n",
       "        [-4.29215655e-02],\n",
       "        [ 1.46001473e-01],\n",
       "        [-1.45303279e-01],\n",
       "        [ 6.47317022e-02],\n",
       "        [ 9.50638205e-02],\n",
       "        [-1.43179938e-01],\n",
       "        [-8.26567411e-05],\n",
       "        [-4.12249491e-02],\n",
       "        [ 1.02853432e-01],\n",
       "        [ 1.02557912e-01],\n",
       "        [ 8.13749880e-02],\n",
       "        [ 1.19959578e-01],\n",
       "        [-1.40663266e-01],\n",
       "        [ 2.01490074e-02],\n",
       "        [ 7.19831139e-02],\n",
       "        [-2.43651718e-02],\n",
       "        [ 2.69616991e-02],\n",
       "        [ 6.25740439e-02],\n",
       "        [ 8.27937126e-02],\n",
       "        [ 1.16323084e-02],\n",
       "        [-1.22417137e-01],\n",
       "        [ 9.44351256e-02],\n",
       "        [ 1.19429514e-01],\n",
       "        [ 9.05635804e-02],\n",
       "        [ 6.17229491e-02],\n",
       "        [ 4.38665748e-02],\n",
       "        [-3.02323028e-02],\n",
       "        [-7.71305859e-02],\n",
       "        [-3.55418026e-03],\n",
       "        [ 1.08677000e-02],\n",
       "        [ 1.34886548e-01],\n",
       "        [-3.31061631e-02],\n",
       "        [-1.09752685e-01],\n",
       "        [-1.97267234e-02],\n",
       "        [-2.59193778e-03],\n",
       "        [-1.14903219e-01],\n",
       "        [-3.51376757e-02],\n",
       "        [ 8.20994079e-02],\n",
       "        [ 1.33044735e-01],\n",
       "        [ 1.43371090e-01],\n",
       "        [-2.33548135e-02],\n",
       "        [-7.07435682e-02],\n",
       "        [-3.19531858e-02],\n",
       "        [-9.33156982e-02],\n",
       "        [-1.17779262e-01],\n",
       "        [ 5.21828085e-02],\n",
       "        [ 1.16260931e-01],\n",
       "        [-1.50165990e-01],\n",
       "        [ 3.43620181e-02],\n",
       "        [-9.84156728e-02],\n",
       "        [ 1.68703496e-03],\n",
       "        [-1.00695476e-01],\n",
       "        [ 1.20006606e-01],\n",
       "        [-5.42629808e-02],\n",
       "        [-1.75040960e-02],\n",
       "        [-7.83491805e-02],\n",
       "        [ 3.76790017e-02],\n",
       "        [ 9.87974256e-02],\n",
       "        [ 2.84214914e-02],\n",
       "        [ 5.09548187e-02],\n",
       "        [-4.54662144e-02],\n",
       "        [ 1.01898566e-01],\n",
       "        [-8.21386129e-02],\n",
       "        [-6.44713789e-02],\n",
       "        [-1.51032791e-01],\n",
       "        [ 5.99659681e-02],\n",
       "        [-1.16072088e-01],\n",
       "        [ 8.65083933e-02],\n",
       "        [-8.88882577e-03],\n",
       "        [-5.83070591e-02],\n",
       "        [ 6.70342445e-02],\n",
       "        [-8.57042223e-02],\n",
       "        [ 7.34464377e-02],\n",
       "        [ 7.36099929e-02],\n",
       "        [ 1.31493822e-01],\n",
       "        [-2.09655315e-02],\n",
       "        [ 3.55710387e-02],\n",
       "        [-1.36174172e-01],\n",
       "        [-5.88385612e-02],\n",
       "        [ 1.18036315e-01],\n",
       "        [ 1.10278800e-01],\n",
       "        [-1.19461566e-01],\n",
       "        [ 1.21289536e-01],\n",
       "        [ 3.98041010e-02],\n",
       "        [ 1.41663387e-01],\n",
       "        [-1.47866726e-01],\n",
       "        [ 2.67779082e-02],\n",
       "        [-6.45077005e-02],\n",
       "        [-1.36385754e-01],\n",
       "        [ 7.36450404e-02],\n",
       "        [ 6.96735680e-02],\n",
       "        [ 8.05107802e-02],\n",
       "        [ 9.22470540e-02],\n",
       "        [-1.08102366e-01],\n",
       "        [ 8.91404003e-02],\n",
       "        [-1.07383512e-01],\n",
       "        [ 1.32377878e-01],\n",
       "        [ 6.46552444e-03],\n",
       "        [ 2.34777927e-02],\n",
       "        [ 5.59148192e-03],\n",
       "        [-2.20924616e-03],\n",
       "        [-9.09535214e-02],\n",
       "        [-9.48550850e-02],\n",
       "        [ 1.19864061e-01],\n",
       "        [ 1.58327669e-02],\n",
       "        [-2.01691538e-02],\n",
       "        [ 1.00610420e-01],\n",
       "        [-1.66111439e-02],\n",
       "        [ 5.79380989e-02],\n",
       "        [-7.13086128e-03],\n",
       "        [-2.70681381e-02],\n",
       "        [-1.23958588e-02],\n",
       "        [-3.83830369e-02],\n",
       "        [ 5.24733961e-02],\n",
       "        [ 1.18950352e-01],\n",
       "        [ 1.36727020e-01],\n",
       "        [ 4.12713587e-02],\n",
       "        [ 1.38655350e-01],\n",
       "        [-9.76250470e-02],\n",
       "        [-1.09831661e-01],\n",
       "        [ 1.12219110e-01],\n",
       "        [-7.75577575e-02],\n",
       "        [-4.48366851e-02],\n",
       "        [ 4.18535769e-02],\n",
       "        [ 5.18176407e-02],\n",
       "        [-3.07574868e-04],\n",
       "        [ 1.40743777e-01],\n",
       "        [-1.64885819e-03],\n",
       "        [-7.88193345e-02],\n",
       "        [ 1.27593324e-01],\n",
       "        [ 3.04256678e-02],\n",
       "        [ 1.37031630e-01],\n",
       "        [ 8.08790028e-02],\n",
       "        [-2.72382945e-02],\n",
       "        [-6.08502328e-03],\n",
       "        [ 3.85498852e-02],\n",
       "        [-1.47872806e-01],\n",
       "        [ 7.10862279e-02],\n",
       "        [-1.51415765e-01],\n",
       "        [ 7.92496353e-02],\n",
       "        [ 1.16907403e-01],\n",
       "        [-5.89613616e-03],\n",
       "        [-1.49009943e-01],\n",
       "        [-9.07363296e-02],\n",
       "        [-1.49153695e-01],\n",
       "        [-6.90678656e-02],\n",
       "        [ 1.31938294e-01],\n",
       "        [-1.65076852e-02],\n",
       "        [ 1.08852759e-01],\n",
       "        [-1.62366182e-02],\n",
       "        [-3.34055796e-02],\n",
       "        [ 2.17144042e-02],\n",
       "        [ 1.27421394e-01],\n",
       "        [ 9.32102650e-02],\n",
       "        [ 3.19211632e-02],\n",
       "        [-1.35409296e-01],\n",
       "        [-1.49016395e-01],\n",
       "        [ 5.11194766e-02],\n",
       "        [ 4.33386117e-02],\n",
       "        [ 2.46198773e-02],\n",
       "        [ 1.00036487e-01],\n",
       "        [-9.93213728e-02],\n",
       "        [-5.92912659e-02],\n",
       "        [-6.95916414e-02],\n",
       "        [ 7.64837116e-02],\n",
       "        [ 5.31404912e-02],\n",
       "        [ 3.46594751e-02],\n",
       "        [ 1.78289115e-02],\n",
       "        [ 2.70198286e-03],\n",
       "        [ 3.68482023e-02],\n",
       "        [-6.06526956e-02]], dtype=float32),\n",
       " array([0.], dtype=float32)]"
      ]
     },
     "execution_count": 13,
     "metadata": {},
     "output_type": "execute_result"
    }
   ],
   "source": [
    "model_arct.get_weights()"
   ]
  },
  {
   "cell_type": "code",
   "execution_count": 16,
   "metadata": {},
   "outputs": [],
   "source": [
    "model_w=new_model.save_weights('.weights.h5')"
   ]
  },
  {
   "cell_type": "code",
   "execution_count": 26,
   "metadata": {},
   "outputs": [
    {
     "name": "stderr",
     "output_type": "stream",
     "text": [
      "c:\\Users\\Mahdie\\AppData\\Local\\Programs\\Python\\Python312\\Lib\\site-packages\\keras\\src\\layers\\core\\embedding.py:90: UserWarning: Argument `input_length` is deprecated. Just remove it.\n",
      "  warnings.warn(\n"
     ]
    }
   ],
   "source": [
    "from tensorflow.keras.models import Sequential\n",
    "from keras.layers import LSTM,  Dense, Embedding\n",
    "model2 = Sequential()\n",
    "model2.add(Embedding(500, 30, input_length=100))\n",
    "model2.add(LSTM(256))\n",
    "model2.add(Dense(1, activation='sigmoid'))\n",
    "# model2.compile(loss = 'binary_crossentropy', optimizer='adam', metrics=['accuracy'])"
   ]
  },
  {
   "cell_type": "code",
   "execution_count": 24,
   "metadata": {},
   "outputs": [
    {
     "data": {
      "text/html": [
       "<pre style=\"white-space:pre;overflow-x:auto;line-height:normal;font-family:Menlo,'DejaVu Sans Mono',consolas,'Courier New',monospace\"><span style=\"font-weight: bold\">Model: \"sequential_3\"</span>\n",
       "</pre>\n"
      ],
      "text/plain": [
       "\u001b[1mModel: \"sequential_3\"\u001b[0m\n"
      ]
     },
     "metadata": {},
     "output_type": "display_data"
    },
    {
     "data": {
      "text/html": [
       "<pre style=\"white-space:pre;overflow-x:auto;line-height:normal;font-family:Menlo,'DejaVu Sans Mono',consolas,'Courier New',monospace\">┏━━━━━━━━━━━━━━━━━━━━━━━━━━━━━━━━━┳━━━━━━━━━━━━━━━━━━━━━━━━┳━━━━━━━━━━━━━━━┓\n",
       "┃<span style=\"font-weight: bold\"> Layer (type)                    </span>┃<span style=\"font-weight: bold\"> Output Shape           </span>┃<span style=\"font-weight: bold\">       Param # </span>┃\n",
       "┡━━━━━━━━━━━━━━━━━━━━━━━━━━━━━━━━━╇━━━━━━━━━━━━━━━━━━━━━━━━╇━━━━━━━━━━━━━━━┩\n",
       "│ embedding_2 (<span style=\"color: #0087ff; text-decoration-color: #0087ff\">Embedding</span>)         │ ?                      │   <span style=\"color: #00af00; text-decoration-color: #00af00\">0</span> (unbuilt) │\n",
       "├─────────────────────────────────┼────────────────────────┼───────────────┤\n",
       "│ lstm_2 (<span style=\"color: #0087ff; text-decoration-color: #0087ff\">LSTM</span>)                   │ ?                      │   <span style=\"color: #00af00; text-decoration-color: #00af00\">0</span> (unbuilt) │\n",
       "├─────────────────────────────────┼────────────────────────┼───────────────┤\n",
       "│ dense_2 (<span style=\"color: #0087ff; text-decoration-color: #0087ff\">Dense</span>)                 │ ?                      │   <span style=\"color: #00af00; text-decoration-color: #00af00\">0</span> (unbuilt) │\n",
       "└─────────────────────────────────┴────────────────────────┴───────────────┘\n",
       "</pre>\n"
      ],
      "text/plain": [
       "┏━━━━━━━━━━━━━━━━━━━━━━━━━━━━━━━━━┳━━━━━━━━━━━━━━━━━━━━━━━━┳━━━━━━━━━━━━━━━┓\n",
       "┃\u001b[1m \u001b[0m\u001b[1mLayer (type)                   \u001b[0m\u001b[1m \u001b[0m┃\u001b[1m \u001b[0m\u001b[1mOutput Shape          \u001b[0m\u001b[1m \u001b[0m┃\u001b[1m \u001b[0m\u001b[1m      Param #\u001b[0m\u001b[1m \u001b[0m┃\n",
       "┡━━━━━━━━━━━━━━━━━━━━━━━━━━━━━━━━━╇━━━━━━━━━━━━━━━━━━━━━━━━╇━━━━━━━━━━━━━━━┩\n",
       "│ embedding_2 (\u001b[38;5;33mEmbedding\u001b[0m)         │ ?                      │   \u001b[38;5;34m0\u001b[0m (unbuilt) │\n",
       "├─────────────────────────────────┼────────────────────────┼───────────────┤\n",
       "│ lstm_2 (\u001b[38;5;33mLSTM\u001b[0m)                   │ ?                      │   \u001b[38;5;34m0\u001b[0m (unbuilt) │\n",
       "├─────────────────────────────────┼────────────────────────┼───────────────┤\n",
       "│ dense_2 (\u001b[38;5;33mDense\u001b[0m)                 │ ?                      │   \u001b[38;5;34m0\u001b[0m (unbuilt) │\n",
       "└─────────────────────────────────┴────────────────────────┴───────────────┘\n"
      ]
     },
     "metadata": {},
     "output_type": "display_data"
    },
    {
     "data": {
      "text/html": [
       "<pre style=\"white-space:pre;overflow-x:auto;line-height:normal;font-family:Menlo,'DejaVu Sans Mono',consolas,'Courier New',monospace\"><span style=\"font-weight: bold\"> Total params: </span><span style=\"color: #00af00; text-decoration-color: #00af00\">0</span> (0.00 B)\n",
       "</pre>\n"
      ],
      "text/plain": [
       "\u001b[1m Total params: \u001b[0m\u001b[38;5;34m0\u001b[0m (0.00 B)\n"
      ]
     },
     "metadata": {},
     "output_type": "display_data"
    },
    {
     "data": {
      "text/html": [
       "<pre style=\"white-space:pre;overflow-x:auto;line-height:normal;font-family:Menlo,'DejaVu Sans Mono',consolas,'Courier New',monospace\"><span style=\"font-weight: bold\"> Trainable params: </span><span style=\"color: #00af00; text-decoration-color: #00af00\">0</span> (0.00 B)\n",
       "</pre>\n"
      ],
      "text/plain": [
       "\u001b[1m Trainable params: \u001b[0m\u001b[38;5;34m0\u001b[0m (0.00 B)\n"
      ]
     },
     "metadata": {},
     "output_type": "display_data"
    },
    {
     "data": {
      "text/html": [
       "<pre style=\"white-space:pre;overflow-x:auto;line-height:normal;font-family:Menlo,'DejaVu Sans Mono',consolas,'Courier New',monospace\"><span style=\"font-weight: bold\"> Non-trainable params: </span><span style=\"color: #00af00; text-decoration-color: #00af00\">0</span> (0.00 B)\n",
       "</pre>\n"
      ],
      "text/plain": [
       "\u001b[1m Non-trainable params: \u001b[0m\u001b[38;5;34m0\u001b[0m (0.00 B)\n"
      ]
     },
     "metadata": {},
     "output_type": "display_data"
    }
   ],
   "source": [
    "model2.summary()"
   ]
  },
  {
   "cell_type": "code",
   "execution_count": 25,
   "metadata": {},
   "outputs": [
    {
     "ename": "ValueError",
     "evalue": "A total of 3 objects could not be loaded. Example error message for object <Embedding name=embedding_2, built=False>:\n\nLayer 'embedding_2' was never built and thus it doesn't have any variables. However the weights file lists 1 variables for this layer.\nIn most cases, this error indicates that either:\n\n1. The layer is owned by a parent layer that implements a `build()` method, but calling the parent's `build()` method did NOT create the state of the child layer 'embedding_2'. A `build()` method must create ALL state for the layer, including the state of any children layers.\n\n2. You need to implement the `def build_from_config(self, config)` method on layer 'embedding_2', to specify how to rebuild it during loading. In this case, you might also want to implement the method that generates the build config at saving time, `def get_build_config(self)`. The method `build_from_config()` is meant to create the state of the layer (i.e. its variables) upon deserialization.\n\nList of objects that could not be loaded:\n[<Embedding name=embedding_2, built=False>, <LSTMCell name=lstm_cell, built=False>, <Dense name=dense_2, built=False>]",
     "output_type": "error",
     "traceback": [
      "\u001b[1;31m---------------------------------------------------------------------------\u001b[0m",
      "\u001b[1;31mValueError\u001b[0m                                Traceback (most recent call last)",
      "Cell \u001b[1;32mIn[25], line 1\u001b[0m\n\u001b[1;32m----> 1\u001b[0m \u001b[43mmodel2\u001b[49m\u001b[38;5;241;43m.\u001b[39;49m\u001b[43mload_weights\u001b[49m\u001b[43m(\u001b[49m\u001b[38;5;124;43m'\u001b[39;49m\u001b[38;5;124;43m.weights.h5\u001b[39;49m\u001b[38;5;124;43m'\u001b[39;49m\u001b[43m)\u001b[49m\n",
      "File \u001b[1;32mc:\\Users\\Mahdie\\AppData\\Local\\Programs\\Python\\Python312\\Lib\\site-packages\\keras\\src\\utils\\traceback_utils.py:122\u001b[0m, in \u001b[0;36mfilter_traceback.<locals>.error_handler\u001b[1;34m(*args, **kwargs)\u001b[0m\n\u001b[0;32m    119\u001b[0m     filtered_tb \u001b[38;5;241m=\u001b[39m _process_traceback_frames(e\u001b[38;5;241m.\u001b[39m__traceback__)\n\u001b[0;32m    120\u001b[0m     \u001b[38;5;66;03m# To get the full stack trace, call:\u001b[39;00m\n\u001b[0;32m    121\u001b[0m     \u001b[38;5;66;03m# `keras.config.disable_traceback_filtering()`\u001b[39;00m\n\u001b[1;32m--> 122\u001b[0m     \u001b[38;5;28;01mraise\u001b[39;00m e\u001b[38;5;241m.\u001b[39mwith_traceback(filtered_tb) \u001b[38;5;28;01mfrom\u001b[39;00m \u001b[38;5;28;01mNone\u001b[39;00m\n\u001b[0;32m    123\u001b[0m \u001b[38;5;28;01mfinally\u001b[39;00m:\n\u001b[0;32m    124\u001b[0m     \u001b[38;5;28;01mdel\u001b[39;00m filtered_tb\n",
      "File \u001b[1;32mc:\\Users\\Mahdie\\AppData\\Local\\Programs\\Python\\Python312\\Lib\\site-packages\\keras\\src\\saving\\saving_lib.py:593\u001b[0m, in \u001b[0;36m_raise_loading_failure\u001b[1;34m(error_msgs, warn_only)\u001b[0m\n\u001b[0;32m    591\u001b[0m     warnings\u001b[38;5;241m.\u001b[39mwarn(msg)\n\u001b[0;32m    592\u001b[0m \u001b[38;5;28;01melse\u001b[39;00m:\n\u001b[1;32m--> 593\u001b[0m     \u001b[38;5;28;01mraise\u001b[39;00m \u001b[38;5;167;01mValueError\u001b[39;00m(msg)\n",
      "\u001b[1;31mValueError\u001b[0m: A total of 3 objects could not be loaded. Example error message for object <Embedding name=embedding_2, built=False>:\n\nLayer 'embedding_2' was never built and thus it doesn't have any variables. However the weights file lists 1 variables for this layer.\nIn most cases, this error indicates that either:\n\n1. The layer is owned by a parent layer that implements a `build()` method, but calling the parent's `build()` method did NOT create the state of the child layer 'embedding_2'. A `build()` method must create ALL state for the layer, including the state of any children layers.\n\n2. You need to implement the `def build_from_config(self, config)` method on layer 'embedding_2', to specify how to rebuild it during loading. In this case, you might also want to implement the method that generates the build config at saving time, `def get_build_config(self)`. The method `build_from_config()` is meant to create the state of the layer (i.e. its variables) upon deserialization.\n\nList of objects that could not be loaded:\n[<Embedding name=embedding_2, built=False>, <LSTMCell name=lstm_cell, built=False>, <Dense name=dense_2, built=False>]"
     ]
    }
   ],
   "source": [
    "model2.load_weights('.weights.h5')"
   ]
  }
 ],
 "metadata": {
  "kernelspec": {
   "display_name": "Python 3",
   "language": "python",
   "name": "python3"
  },
  "language_info": {
   "codemirror_mode": {
    "name": "ipython",
    "version": 3
   },
   "file_extension": ".py",
   "mimetype": "text/x-python",
   "name": "python",
   "nbconvert_exporter": "python",
   "pygments_lexer": "ipython3",
   "version": "3.12.4"
  }
 },
 "nbformat": 4,
 "nbformat_minor": 2
}
